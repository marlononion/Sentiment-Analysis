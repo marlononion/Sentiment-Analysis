{
 "cells": [
  {
   "cell_type": "code",
   "execution_count": 4,
   "id": "supported-custom",
   "metadata": {},
   "outputs": [],
   "source": [
    "import numpy as np\n",
    "import math\n",
    "import re\n",
    "import pandas as pd\n",
    "from bs4 import BeautifulSoup\n",
    "#from google.drive import drive\n",
    "import zipfile\n",
    "import seaborn as sns\n",
    "import spacy as sp\n",
    "import string\n",
    "import random\n",
    "import matplotlib.pyplot as plt"
   ]
  },
  {
   "cell_type": "code",
   "execution_count": 6,
   "id": "expanded-authorization",
   "metadata": {},
   "outputs": [
    {
     "data": {
      "text/plain": [
       "'2.4.1'"
      ]
     },
     "execution_count": 6,
     "metadata": {},
     "output_type": "execute_result"
    }
   ],
   "source": [
    "import tensorflow as tf\n",
    "tf.__version__"
   ]
  },
  {
   "cell_type": "code",
   "execution_count": 7,
   "id": "bigger-distributor",
   "metadata": {},
   "outputs": [],
   "source": [
    "from tensorflow.keras import layers"
   ]
  },
  {
   "cell_type": "markdown",
   "id": "rising-today",
   "metadata": {},
   "source": [
    "# Data"
   ]
  },
  {
   "cell_type": "code",
   "execution_count": 14,
   "id": "concrete-campbell",
   "metadata": {},
   "outputs": [],
   "source": [
    "cols = [\"sentiment\", \"id\", \"date\", \"query\", \"user\", \"text\"]"
   ]
  },
  {
   "cell_type": "code",
   "execution_count": 15,
   "id": "affected-cattle",
   "metadata": {},
   "outputs": [],
   "source": [
    "train_data = pd.read_csv(\"trainingandtestdata/train.csv\", header=None, engine=\"python\", encoding=\"latin1\", names=cols)"
   ]
  },
  {
   "cell_type": "code",
   "execution_count": 16,
   "id": "severe-powder",
   "metadata": {},
   "outputs": [
    {
     "data": {
      "text/html": [
       "<div>\n",
       "<style scoped>\n",
       "    .dataframe tbody tr th:only-of-type {\n",
       "        vertical-align: middle;\n",
       "    }\n",
       "\n",
       "    .dataframe tbody tr th {\n",
       "        vertical-align: top;\n",
       "    }\n",
       "\n",
       "    .dataframe thead th {\n",
       "        text-align: right;\n",
       "    }\n",
       "</style>\n",
       "<table border=\"1\" class=\"dataframe\">\n",
       "  <thead>\n",
       "    <tr style=\"text-align: right;\">\n",
       "      <th></th>\n",
       "      <th>sentiment</th>\n",
       "      <th>id</th>\n",
       "      <th>date</th>\n",
       "      <th>query</th>\n",
       "      <th>user</th>\n",
       "      <th>text</th>\n",
       "    </tr>\n",
       "  </thead>\n",
       "  <tbody>\n",
       "    <tr>\n",
       "      <th>0</th>\n",
       "      <td>0</td>\n",
       "      <td>1467810369</td>\n",
       "      <td>Mon Apr 06 22:19:45 PDT 2009</td>\n",
       "      <td>NO_QUERY</td>\n",
       "      <td>_TheSpecialOne_</td>\n",
       "      <td>@switchfoot http://twitpic.com/2y1zl - Awww, t...</td>\n",
       "    </tr>\n",
       "    <tr>\n",
       "      <th>1</th>\n",
       "      <td>0</td>\n",
       "      <td>1467810672</td>\n",
       "      <td>Mon Apr 06 22:19:49 PDT 2009</td>\n",
       "      <td>NO_QUERY</td>\n",
       "      <td>scotthamilton</td>\n",
       "      <td>is upset that he can't update his Facebook by ...</td>\n",
       "    </tr>\n",
       "    <tr>\n",
       "      <th>2</th>\n",
       "      <td>0</td>\n",
       "      <td>1467810917</td>\n",
       "      <td>Mon Apr 06 22:19:53 PDT 2009</td>\n",
       "      <td>NO_QUERY</td>\n",
       "      <td>mattycus</td>\n",
       "      <td>@Kenichan I dived many times for the ball. Man...</td>\n",
       "    </tr>\n",
       "    <tr>\n",
       "      <th>3</th>\n",
       "      <td>0</td>\n",
       "      <td>1467811184</td>\n",
       "      <td>Mon Apr 06 22:19:57 PDT 2009</td>\n",
       "      <td>NO_QUERY</td>\n",
       "      <td>ElleCTF</td>\n",
       "      <td>my whole body feels itchy and like its on fire</td>\n",
       "    </tr>\n",
       "    <tr>\n",
       "      <th>4</th>\n",
       "      <td>0</td>\n",
       "      <td>1467811193</td>\n",
       "      <td>Mon Apr 06 22:19:57 PDT 2009</td>\n",
       "      <td>NO_QUERY</td>\n",
       "      <td>Karoli</td>\n",
       "      <td>@nationwideclass no, it's not behaving at all....</td>\n",
       "    </tr>\n",
       "  </tbody>\n",
       "</table>\n",
       "</div>"
      ],
      "text/plain": [
       "   sentiment          id                          date     query  \\\n",
       "0          0  1467810369  Mon Apr 06 22:19:45 PDT 2009  NO_QUERY   \n",
       "1          0  1467810672  Mon Apr 06 22:19:49 PDT 2009  NO_QUERY   \n",
       "2          0  1467810917  Mon Apr 06 22:19:53 PDT 2009  NO_QUERY   \n",
       "3          0  1467811184  Mon Apr 06 22:19:57 PDT 2009  NO_QUERY   \n",
       "4          0  1467811193  Mon Apr 06 22:19:57 PDT 2009  NO_QUERY   \n",
       "\n",
       "              user                                               text  \n",
       "0  _TheSpecialOne_  @switchfoot http://twitpic.com/2y1zl - Awww, t...  \n",
       "1    scotthamilton  is upset that he can't update his Facebook by ...  \n",
       "2         mattycus  @Kenichan I dived many times for the ball. Man...  \n",
       "3          ElleCTF    my whole body feels itchy and like its on fire   \n",
       "4           Karoli  @nationwideclass no, it's not behaving at all....  "
      ]
     },
     "execution_count": 16,
     "metadata": {},
     "output_type": "execute_result"
    }
   ],
   "source": [
    "train_data.head()"
   ]
  },
  {
   "cell_type": "code",
   "execution_count": 17,
   "id": "colonial-juvenile",
   "metadata": {},
   "outputs": [
    {
     "data": {
      "text/plain": [
       "(1600000, 6)"
      ]
     },
     "execution_count": 17,
     "metadata": {},
     "output_type": "execute_result"
    }
   ],
   "source": [
    "train_data.shape"
   ]
  },
  {
   "cell_type": "code",
   "execution_count": 18,
   "id": "european-found",
   "metadata": {},
   "outputs": [
    {
     "data": {
      "text/plain": [
       "array([0, 4])"
      ]
     },
     "execution_count": 18,
     "metadata": {},
     "output_type": "execute_result"
    }
   ],
   "source": [
    "train_data[\"sentiment\"].unique()"
   ]
  },
  {
   "cell_type": "code",
   "execution_count": 19,
   "id": "nuclear-distribution",
   "metadata": {},
   "outputs": [
    {
     "data": {
      "text/plain": [
       "0    800000\n",
       "4    800000\n",
       "Name: sentiment, dtype: int64"
      ]
     },
     "execution_count": 19,
     "metadata": {},
     "output_type": "execute_result"
    }
   ],
   "source": [
    "train_data[\"sentiment\"].value_counts()"
   ]
  },
  {
   "cell_type": "code",
   "execution_count": 21,
   "id": "understanding-harmony",
   "metadata": {},
   "outputs": [
    {
     "name": "stderr",
     "output_type": "stream",
     "text": [
      "/home/marlon/.local/lib/python3.8/site-packages/seaborn/_decorators.py:36: FutureWarning: Pass the following variable as a keyword arg: x. From version 0.12, the only valid positional argument will be `data`, and passing other arguments without an explicit keyword will result in an error or misinterpretation.\n",
      "  warnings.warn(\n"
     ]
    },
    {
     "data": {
      "image/png": "[encoded data removed]",
      "text/plain": [
       "<Figure size 432x288 with 1 Axes>"
      ]
     },
     "metadata": {
      "needs_background": "light"
     },
     "output_type": "display_data"
    }
   ],
   "source": [
    "sns.countplot(train_data[\"sentiment\"]);"
   ]
  },
  {
   "cell_type": "code",
   "execution_count": 22,
   "id": "accurate-huntington",
   "metadata": {},
   "outputs": [],
   "source": [
    "test_data = pd.read_csv(\"trainingandtestdata/test.csv\", header=None, engine=\"python\", encoding=\"latin1\", names=cols)"
   ]
  },
  {
   "cell_type": "code",
   "execution_count": 23,
   "id": "conditional-wheel",
   "metadata": {},
   "outputs": [
    {
     "data": {
      "text/html": [
       "<div>\n",
       "<style scoped>\n",
       "    .dataframe tbody tr th:only-of-type {\n",
       "        vertical-align: middle;\n",
       "    }\n",
       "\n",
       "    .dataframe tbody tr th {\n",
       "        vertical-align: top;\n",
       "    }\n",
       "\n",
       "    .dataframe thead th {\n",
       "        text-align: right;\n",
       "    }\n",
       "</style>\n",
       "<table border=\"1\" class=\"dataframe\">\n",
       "  <thead>\n",
       "    <tr style=\"text-align: right;\">\n",
       "      <th></th>\n",
       "      <th>sentiment</th>\n",
       "      <th>id</th>\n",
       "      <th>date</th>\n",
       "      <th>query</th>\n",
       "      <th>user</th>\n",
       "      <th>text</th>\n",
       "    </tr>\n",
       "  </thead>\n",
       "  <tbody>\n",
       "    <tr>\n",
       "      <th>0</th>\n",
       "      <td>4</td>\n",
       "      <td>3</td>\n",
       "      <td>Mon May 11 03:17:40 UTC 2009</td>\n",
       "      <td>kindle2</td>\n",
       "      <td>tpryan</td>\n",
       "      <td>@stellargirl I loooooooovvvvvveee my Kindle2. ...</td>\n",
       "    </tr>\n",
       "    <tr>\n",
       "      <th>1</th>\n",
       "      <td>4</td>\n",
       "      <td>4</td>\n",
       "      <td>Mon May 11 03:18:03 UTC 2009</td>\n",
       "      <td>kindle2</td>\n",
       "      <td>vcu451</td>\n",
       "      <td>Reading my kindle2...  Love it... Lee childs i...</td>\n",
       "    </tr>\n",
       "    <tr>\n",
       "      <th>2</th>\n",
       "      <td>4</td>\n",
       "      <td>5</td>\n",
       "      <td>Mon May 11 03:18:54 UTC 2009</td>\n",
       "      <td>kindle2</td>\n",
       "      <td>chadfu</td>\n",
       "      <td>Ok, first assesment of the #kindle2 ...it fuck...</td>\n",
       "    </tr>\n",
       "    <tr>\n",
       "      <th>3</th>\n",
       "      <td>4</td>\n",
       "      <td>6</td>\n",
       "      <td>Mon May 11 03:19:04 UTC 2009</td>\n",
       "      <td>kindle2</td>\n",
       "      <td>SIX15</td>\n",
       "      <td>@kenburbary You'll love your Kindle2. I've had...</td>\n",
       "    </tr>\n",
       "    <tr>\n",
       "      <th>4</th>\n",
       "      <td>4</td>\n",
       "      <td>7</td>\n",
       "      <td>Mon May 11 03:21:41 UTC 2009</td>\n",
       "      <td>kindle2</td>\n",
       "      <td>yamarama</td>\n",
       "      <td>@mikefish  Fair enough. But i have the Kindle2...</td>\n",
       "    </tr>\n",
       "  </tbody>\n",
       "</table>\n",
       "</div>"
      ],
      "text/plain": [
       "   sentiment  id                          date    query      user  \\\n",
       "0          4   3  Mon May 11 03:17:40 UTC 2009  kindle2    tpryan   \n",
       "1          4   4  Mon May 11 03:18:03 UTC 2009  kindle2    vcu451   \n",
       "2          4   5  Mon May 11 03:18:54 UTC 2009  kindle2    chadfu   \n",
       "3          4   6  Mon May 11 03:19:04 UTC 2009  kindle2     SIX15   \n",
       "4          4   7  Mon May 11 03:21:41 UTC 2009  kindle2  yamarama   \n",
       "\n",
       "                                                text  \n",
       "0  @stellargirl I loooooooovvvvvveee my Kindle2. ...  \n",
       "1  Reading my kindle2...  Love it... Lee childs i...  \n",
       "2  Ok, first assesment of the #kindle2 ...it fuck...  \n",
       "3  @kenburbary You'll love your Kindle2. I've had...  \n",
       "4  @mikefish  Fair enough. But i have the Kindle2...  "
      ]
     },
     "execution_count": 23,
     "metadata": {},
     "output_type": "execute_result"
    }
   ],
   "source": [
    "test_data.head()"
   ]
  },
  {
   "cell_type": "code",
   "execution_count": 24,
   "id": "excited-deficit",
   "metadata": {},
   "outputs": [
    {
     "data": {
      "text/plain": [
       "4    182\n",
       "0    177\n",
       "2    139\n",
       "Name: sentiment, dtype: int64"
      ]
     },
     "execution_count": 24,
     "metadata": {},
     "output_type": "execute_result"
    }
   ],
   "source": [
    "test_data[\"sentiment\"].value_counts()"
   ]
  },
  {
   "cell_type": "code",
   "execution_count": 26,
   "id": "opposite-saver",
   "metadata": {},
   "outputs": [
    {
     "name": "stderr",
     "output_type": "stream",
     "text": [
      "/home/marlon/.local/lib/python3.8/site-packages/seaborn/_decorators.py:36: FutureWarning: Pass the following variable as a keyword arg: x. From version 0.12, the only valid positional argument will be `data`, and passing other arguments without an explicit keyword will result in an error or misinterpretation.\n",
      "  warnings.warn(\n"
     ]
    },
    {
     "data": {
      "image/png": "[encoded data removed]",
      "text/plain": [
       "<Figure size 432x288 with 1 Axes>"
      ]
     },
     "metadata": {
      "needs_background": "light"
     },
     "output_type": "display_data"
    }
   ],
   "source": [
    "sns.countplot(test_data[\"sentiment\"]);"
   ]
  },
  {
   "cell_type": "markdown",
   "id": "sunrise-orientation",
   "metadata": {},
   "source": [
    "## Limpeza dos Dados"
   ]
  },
  {
   "cell_type": "code",
   "execution_count": 27,
   "id": "acknowledged-oracle",
   "metadata": {},
   "outputs": [],
   "source": [
    "data = train_data"
   ]
  },
  {
   "cell_type": "code",
   "execution_count": 29,
   "id": "double-tuning",
   "metadata": {},
   "outputs": [],
   "source": [
    "data.drop([\"id\", \"date\", \"query\", \"user\"], axis=1, inplace=True)"
   ]
  },
  {
   "cell_type": "code",
   "execution_count": 30,
   "id": "distinct-birth",
   "metadata": {},
   "outputs": [
    {
     "data": {
      "text/html": [
       "<div>\n",
       "<style scoped>\n",
       "    .dataframe tbody tr th:only-of-type {\n",
       "        vertical-align: middle;\n",
       "    }\n",
       "\n",
       "    .dataframe tbody tr th {\n",
       "        vertical-align: top;\n",
       "    }\n",
       "\n",
       "    .dataframe thead th {\n",
       "        text-align: right;\n",
       "    }\n",
       "</style>\n",
       "<table border=\"1\" class=\"dataframe\">\n",
       "  <thead>\n",
       "    <tr style=\"text-align: right;\">\n",
       "      <th></th>\n",
       "      <th>sentiment</th>\n",
       "      <th>text</th>\n",
       "    </tr>\n",
       "  </thead>\n",
       "  <tbody>\n",
       "    <tr>\n",
       "      <th>0</th>\n",
       "      <td>0</td>\n",
       "      <td>@switchfoot http://twitpic.com/2y1zl - Awww, t...</td>\n",
       "    </tr>\n",
       "    <tr>\n",
       "      <th>1</th>\n",
       "      <td>0</td>\n",
       "      <td>is upset that he can't update his Facebook by ...</td>\n",
       "    </tr>\n",
       "    <tr>\n",
       "      <th>2</th>\n",
       "      <td>0</td>\n",
       "      <td>@Kenichan I dived many times for the ball. Man...</td>\n",
       "    </tr>\n",
       "    <tr>\n",
       "      <th>3</th>\n",
       "      <td>0</td>\n",
       "      <td>my whole body feels itchy and like its on fire</td>\n",
       "    </tr>\n",
       "    <tr>\n",
       "      <th>4</th>\n",
       "      <td>0</td>\n",
       "      <td>@nationwideclass no, it's not behaving at all....</td>\n",
       "    </tr>\n",
       "  </tbody>\n",
       "</table>\n",
       "</div>"
      ],
      "text/plain": [
       "   sentiment                                               text\n",
       "0          0  @switchfoot http://twitpic.com/2y1zl - Awww, t...\n",
       "1          0  is upset that he can't update his Facebook by ...\n",
       "2          0  @Kenichan I dived many times for the ball. Man...\n",
       "3          0    my whole body feels itchy and like its on fire \n",
       "4          0  @nationwideclass no, it's not behaving at all...."
      ]
     },
     "execution_count": 30,
     "metadata": {},
     "output_type": "execute_result"
    }
   ],
   "source": [
    "data.head()"
   ]
  },
  {
   "cell_type": "code",
   "execution_count": 31,
   "id": "bizarre-timber",
   "metadata": {},
   "outputs": [],
   "source": [
    "X = data.iloc[:, 1].values"
   ]
  },
  {
   "cell_type": "code",
   "execution_count": 35,
   "id": "progressive-forth",
   "metadata": {},
   "outputs": [
    {
     "data": {
      "text/plain": [
       "(1600000,)"
      ]
     },
     "execution_count": 35,
     "metadata": {},
     "output_type": "execute_result"
    }
   ],
   "source": [
    "X.shape"
   ]
  },
  {
   "cell_type": "code",
   "execution_count": 40,
   "id": "silver-rachel",
   "metadata": {},
   "outputs": [
    {
     "data": {
      "image/png": "[encoded data removed]",
      "text/plain": [
       "<Figure size 432x288 with 2 Axes>"
      ]
     },
     "metadata": {
      "needs_background": "light"
     },
     "output_type": "display_data"
    }
   ],
   "source": [
    "sns.heatmap(data.isnull());"
   ]
  },
  {
   "cell_type": "code",
   "execution_count": 43,
   "id": "engaging-funeral",
   "metadata": {},
   "outputs": [
    {
     "data": {
      "text/plain": [
       "sentiment    0\n",
       "text         0\n",
       "dtype: int64"
      ]
     },
     "execution_count": 43,
     "metadata": {},
     "output_type": "execute_result"
    }
   ],
   "source": [
    "data.isnull().sum()"
   ]
  },
  {
   "cell_type": "code",
   "execution_count": 44,
   "id": "clinical-auckland",
   "metadata": {},
   "outputs": [],
   "source": [
    "y = data.iloc[:, 0].values"
   ]
  },
  {
   "cell_type": "code",
   "execution_count": 46,
   "id": "minor-revelation",
   "metadata": {},
   "outputs": [
    {
     "data": {
      "text/plain": [
       "(1600000,)"
      ]
     },
     "execution_count": 46,
     "metadata": {},
     "output_type": "execute_result"
    }
   ],
   "source": [
    "y.shape"
   ]
  },
  {
   "cell_type": "code",
   "execution_count": 47,
   "id": "systematic-monroe",
   "metadata": {},
   "outputs": [],
   "source": [
    "from sklearn.model_selection import train_test_split"
   ]
  },
  {
   "cell_type": "code",
   "execution_count": 50,
   "id": "wrapped-tampa",
   "metadata": {},
   "outputs": [],
   "source": [
    "X, _, y, _ = train_test_split(X, y, test_size=0.85, stratify=y)"
   ]
  },
  {
   "cell_type": "code",
   "execution_count": 51,
   "id": "polar-platform",
   "metadata": {},
   "outputs": [
    {
     "data": {
      "text/plain": [
       "(240000,)"
      ]
     },
     "execution_count": 51,
     "metadata": {},
     "output_type": "execute_result"
    }
   ],
   "source": [
    "X.shape"
   ]
  },
  {
   "cell_type": "code",
   "execution_count": 52,
   "id": "auburn-vietnam",
   "metadata": {},
   "outputs": [
    {
     "data": {
      "text/plain": [
       "(240000,)"
      ]
     },
     "execution_count": 52,
     "metadata": {},
     "output_type": "execute_result"
    }
   ],
   "source": [
    "y.shape"
   ]
  },
  {
   "cell_type": "code",
   "execution_count": 55,
   "id": "packed-kingdom",
   "metadata": {},
   "outputs": [
    {
     "data": {
      "text/plain": [
       "(array([0, 4]), array([120000, 120000]))"
      ]
     },
     "execution_count": 55,
     "metadata": {},
     "output_type": "execute_result"
    }
   ],
   "source": [
    "unique, counts = np.unique(y, return_counts=True)\n",
    "unique, counts"
   ]
  },
  {
   "cell_type": "code",
   "execution_count": 102,
   "id": "hazardous-advance",
   "metadata": {},
   "outputs": [],
   "source": [
    "def clean_tweets(tweet):\n",
    "    tweet = BeautifulSoup(tweet, \"lxml\").get_text()\n",
    "    tweet = re.sub(r\"@[A-Za-z0-9]+\", \" \", tweet)\n",
    "    tweet = re.sub(r\"https?://[A-Za-z0-9./]+\", \" \", tweet)\n",
    "    tweet = re.sub(r\"[^a-zA-Z.!?]\", \" \", tweet)\n",
    "    tweet = re.sub(r\" +\", \" \", tweet)\n",
    "    return tweet"
   ]
  },
  {
   "cell_type": "code",
   "execution_count": 103,
   "id": "confirmed-preview",
   "metadata": {},
   "outputs": [],
   "source": [
    "text = \"@ddubsbostongirl http://fiap.com.br me of 2course!!!\""
   ]
  },
  {
   "cell_type": "code",
   "execution_count": 104,
   "id": "sophisticated-childhood",
   "metadata": {},
   "outputs": [
    {
     "data": {
      "text/plain": [
       "' me of course!!!'"
      ]
     },
     "execution_count": 104,
     "metadata": {},
     "output_type": "execute_result"
    }
   ],
   "source": [
    "text = clean_tweets(text)\n",
    "text"
   ]
  },
  {
   "cell_type": "code",
   "execution_count": 109,
   "id": "indirect-plaza",
   "metadata": {},
   "outputs": [],
   "source": [
    "nlp = sp.load('en_core_web_sm')"
   ]
  },
  {
   "cell_type": "code",
   "execution_count": 110,
   "id": "spatial-recognition",
   "metadata": {},
   "outputs": [
    {
     "data": {
      "text/plain": [
       "<spacy.lang.en.English at 0x7fe1dab4fd90>"
      ]
     },
     "execution_count": 110,
     "metadata": {},
     "output_type": "execute_result"
    }
   ],
   "source": [
    "nlp"
   ]
  },
  {
   "cell_type": "code",
   "execution_count": 111,
   "id": "right-destination",
   "metadata": {},
   "outputs": [],
   "source": [
    "stop_words = sp.lang.en.STOP_WORDS"
   ]
  },
  {
   "cell_type": "code",
   "execution_count": 113,
   "id": "proud-locking",
   "metadata": {},
   "outputs": [
    {
     "name": "stdout",
     "output_type": "stream",
     "text": [
      "{'anyone', 'made', 'becomes', 'thru', 'yourself', 'sometime', 'unless', 'has', 'latter', 'often', 'when', 'upon', 'us', 'to', 'why', 'here', 'much', 'several', 'almost', 'wherever', 'around', 'have', 'hundred', 'throughout', 'would', 'he', 'should', 'through', 'whoever', 'go', 'say', 'while', 'whither', 'whence', '’ve', 'meanwhile', 'quite', '’ll', 'whom', 'it', 'too', 'alone', 'indeed', 'somewhere', 'do', 'eleven', 'some', 'not', 'none', 'above', 'after', 'its', 'was', 'yourselves', 'anyhow', 'give', '‘ll', 'just', 'anything', 'become', 'because', 'otherwise', 'seemed', 'namely', 'perhaps', 'among', 'back', 'during', 'across', 'yours', 'all', 'front', 'side', 'within', 'hereupon', '‘ve', 'which', 'less', 'make', 'the', 'into', 'still', 'were', 'became', 'twenty', 'together', 'see', 'am', 'with', 'thereupon', '’re', 'down', 'thence', 'your', 'full', 'nobody', 'take', 'there', 'three', 'whose', 'herself', 'how', 'such', 'although', 'beyond', 'out', 'whenever', 'then', 'seems', 'for', 'next', 'itself', 'ten', 'whereafter', 'between', 'six', 'fifty', 'former', 'up', 'his', 'thereby', 'yet', 'by', 'ca', \"n't\", \"'d\", 'never', 'most', 'amount', 'done', 'what', 'neither', 'is', 'top', 'before', 'each', 'also', 'off', 'be', 'due', 'at', 'thereafter', 'eight', 'seeming', 'rather', 'somehow', 'even', 'nothing', 'hereby', 'than', 'besides', 'now', 'had', 'very', 'again', 'and', 'last', 'becoming', 'our', 'we', 'as', 'against', 'from', 'else', 'been', 'five', 'themselves', 'forty', 'n’t', 'being', 'four', 'afterwards', 'always', 'whereby', 'this', 'without', 'them', 'nine', 'formerly', 'please', 'elsewhere', 'bottom', 'beforehand', 'might', 'over', 'put', 'no', 'sixty', 'toward', 'doing', 'any', 'few', 'third', '’d', 'that', 'of', '’m', '‘re', 'something', '‘s', 'well', 'every', 'everything', 'own', 'fifteen', 'one', 'ourselves', 'n‘t', 'seem', 'moreover', 'they', 'empty', 'hence', 'their', 'a', 'can', 'used', 'another', 'nowhere', 'regarding', 'either', 'wherein', 'on', 'her', 'him', 'hers', 'sometimes', 'you', 'someone', '‘m', 'she', 're', 'mostly', 'many', 'could', 'who', 'everywhere', 'are', 'whereupon', 'noone', 'first', \"'ve\", 'various', 'least', \"'m\", 'whereas', 'beside', 'per', 'thus', \"'s\", 'behind', 'hereafter', 'whether', 'others', 'really', 'did', 'though', 'will', 'name', 'those', 'both', 'me', 'in', 'ours', 'himself', 'under', 'serious', 'may', '‘d', 'whatever', 'until', 'anywhere', 'enough', 'cannot', 'move', 'only', 'twelve', 'via', 'amongst', 'other', 'using', 'except', 'two', 'herein', 'onto', 'everyone', 'an', 'i', 'these', 'anyway', 'more', 'must', 'get', \"'ll\", 'once', 'latterly', 'about', 'further', 'keep', 'call', 'therefore', 'ever', 'so', 'towards', 'therein', 'along', 'myself', \"'re\", 'my', 'nevertheless', 'however', 'mine', 'does', 'show', 'below', 'nor', 'since', 'already', 'but', '’s', 'part', 'whole', 'same', 'if', 'where', 'or'}\n"
     ]
    }
   ],
   "source": [
    "print(stop_words)"
   ]
  },
  {
   "cell_type": "code",
   "execution_count": 114,
   "id": "professional-apple",
   "metadata": {},
   "outputs": [
    {
     "data": {
      "text/plain": [
       "326"
      ]
     },
     "execution_count": 114,
     "metadata": {},
     "output_type": "execute_result"
    }
   ],
   "source": [
    "len(stop_words)"
   ]
  },
  {
   "cell_type": "code",
   "execution_count": 127,
   "id": "interior-opposition",
   "metadata": {},
   "outputs": [],
   "source": [
    "def clean_tweets2(tweet):\n",
    "    tweet = tweet.lower()\n",
    "    document = nlp(tweet)\n",
    "    \n",
    "    words = []\n",
    "    for token in document:\n",
    "        words.append(token.text)\n",
    "        \n",
    "    words = [word for word in words if word not in stop_words and word not in string.punctuation]\n",
    "    words = ' '.join([str(element) for element in words])\n",
    "        \n",
    "    return words"
   ]
  },
  {
   "cell_type": "code",
   "execution_count": 128,
   "id": "logical-delta",
   "metadata": {},
   "outputs": [
    {
     "data": {
      "text/plain": [
       "'  course'"
      ]
     },
     "execution_count": 128,
     "metadata": {},
     "output_type": "execute_result"
    }
   ],
   "source": [
    "text2 = clean_tweets2(text)\n",
    "text2"
   ]
  },
  {
   "cell_type": "code",
   "execution_count": 130,
   "id": "rough-trunk",
   "metadata": {},
   "outputs": [],
   "source": [
    "data_clean = [clean_tweets2(clean_tweets(tweet)) for tweet in X]"
   ]
  },
  {
   "cell_type": "code",
   "execution_count": 131,
   "id": "sealed-enclosure",
   "metadata": {},
   "outputs": [
    {
     "name": "stdout",
     "output_type": "stream",
     "text": [
      "need fingerless gloves today hands freezing m making lots typos\n",
      "goneeeeeee ll ..\n",
      "new zero yeah ghost album info track link joker ginz mock n toof remixes sorry prodigy vids didn t turn\n",
      "  happy birthday experience\n",
      "  nooo nt nervous m gon na cook dinner ll lovely relaxed promise x\n",
      "ugh work project school\n",
      "hopefully going bellwoods later yeaa\n",
      "  flu think missed joke joke t tell sorry\n",
      "  love bad away ..... lol start looking\n",
      "twitterfox cool specially wen u r office\n"
     ]
    }
   ],
   "source": [
    "for _ in range(10):\n",
    "    print(data_clean[random.randint(0, len(data_clean)) - 1])"
   ]
  },
  {
   "cell_type": "code",
   "execution_count": 132,
   "id": "literary-identifier",
   "metadata": {},
   "outputs": [],
   "source": [
    "data_labels = y"
   ]
  },
  {
   "cell_type": "code",
   "execution_count": 134,
   "id": "undefined-resident",
   "metadata": {},
   "outputs": [],
   "source": [
    "data_labels[data_labels == 4] = 1"
   ]
  },
  {
   "cell_type": "code",
   "execution_count": 136,
   "id": "regulation-polyester",
   "metadata": {},
   "outputs": [
    {
     "data": {
      "text/plain": [
       "array([0, 1])"
      ]
     },
     "execution_count": 136,
     "metadata": {},
     "output_type": "execute_result"
    }
   ],
   "source": [
    "np.unique(data_labels)"
   ]
  },
  {
   "cell_type": "markdown",
   "id": "sealed-prerequisite",
   "metadata": {},
   "source": [
    "## Tokenização"
   ]
  },
  {
   "cell_type": "code",
   "execution_count": 138,
   "id": "competitive-monkey",
   "metadata": {},
   "outputs": [],
   "source": [
    "# Transformar palavras em números"
   ]
  },
  {
   "cell_type": "code",
   "execution_count": 141,
   "id": "level-certificate",
   "metadata": {},
   "outputs": [],
   "source": [
    "import tensorflow_datasets as tfds"
   ]
  },
  {
   "cell_type": "code",
   "execution_count": 144,
   "id": "smaller-keyboard",
   "metadata": {},
   "outputs": [],
   "source": [
    "#tokenizer = tfds.features.text.SubwordTExtEncoder.build_from_corpus(data_clean, target_vocab_size=2**16)"
   ]
  },
  {
   "cell_type": "code",
   "execution_count": 143,
   "id": "empty-request",
   "metadata": {},
   "outputs": [],
   "source": [
    "tokenizer = tfds.deprecated.text.SubwordTextEncoder.build_from_corpus(data_clean, target_vocab_size=2**16)"
   ]
  },
  {
   "cell_type": "code",
   "execution_count": 145,
   "id": "antique-relaxation",
   "metadata": {},
   "outputs": [
    {
     "data": {
      "text/plain": [
       "52693"
      ]
     },
     "execution_count": 145,
     "metadata": {},
     "output_type": "execute_result"
    }
   ],
   "source": [
    "tokenizer.vocab_size"
   ]
  },
  {
   "cell_type": "code",
   "execution_count": 147,
   "id": "primary-garbage",
   "metadata": {},
   "outputs": [],
   "source": [
    "#print(tokenizer.subwords)"
   ]
  },
  {
   "cell_type": "code",
   "execution_count": 148,
   "id": "found-compiler",
   "metadata": {},
   "outputs": [
    {
     "data": {
      "text/plain": [
       "[269, 3787, 371]"
      ]
     },
     "execution_count": 148,
     "metadata": {},
     "output_type": "execute_result"
    }
   ],
   "source": [
    "ids = tokenizer.encode(\"i am happy\")\n",
    "ids"
   ]
  },
  {
   "cell_type": "code",
   "execution_count": 149,
   "id": "advanced-raising",
   "metadata": {},
   "outputs": [
    {
     "data": {
      "text/plain": [
       "'i am happy'"
      ]
     },
     "execution_count": 149,
     "metadata": {},
     "output_type": "execute_result"
    }
   ],
   "source": [
    "text = tokenizer.decode(ids)\n",
    "text"
   ]
  },
  {
   "cell_type": "code",
   "execution_count": 150,
   "id": "pregnant-reservoir",
   "metadata": {},
   "outputs": [],
   "source": [
    "data_inputs = [tokenizer.encode(setence) for setence in data_clean]"
   ]
  },
  {
   "cell_type": "code",
   "execution_count": 152,
   "id": "worse-factory",
   "metadata": {},
   "outputs": [
    {
     "name": "stdout",
     "output_type": "stream",
     "text": [
      "[1, 52, 163, 739]\n",
      "[324, 260, 47834, 27672, 2902, 63, 727, 2784, 17763, 4367, 15871, 2528, 2843, 3634, 1269, 48269, 11881]\n",
      "[53, 4, 175]\n",
      "[18, 6, 157, 2, 895, 795, 53, 4, 825, 21, 114, 4, 100, 3956, 124, 114, 1047]\n",
      "[1, 2, 1584, 36, 6, 6131, 43527, 56, 2561, 2224, 238, 8, 2398, 2821, 15235]\n",
      "[3, 8953, 10388]\n",
      "[9316, 1055, 483, 969, 12, 19, 9045, 969, 154, 23, 1825]\n",
      "[1, 2, 312, 67, 26, 83, 23748, 3419, 9552, 7, 145, 10467, 1552, 54]\n",
      "[1, 3256, 5, 1682, 1905, 1783, 288, 4268, 5, 3819, 222, 47, 332]\n",
      "[1, 3164, 159, 8, 3464, 3969, 52557]\n"
     ]
    }
   ],
   "source": [
    "for _ in range(10):\n",
    "    print(data_inputs[random.randint(0, len(data_inputs)) - 1])"
   ]
  },
  {
   "cell_type": "code",
   "execution_count": 153,
   "id": "featured-contents",
   "metadata": {},
   "outputs": [
    {
     "data": {
      "text/plain": [
       "56"
      ]
     },
     "execution_count": 153,
     "metadata": {},
     "output_type": "execute_result"
    }
   ],
   "source": [
    "max_len = max([len(setence) for setence in data_inputs])\n",
    "max_len"
   ]
  },
  {
   "cell_type": "code",
   "execution_count": 154,
   "id": "allied-representative",
   "metadata": {},
   "outputs": [],
   "source": [
    "data_inputs = tf.keras.preprocessing.sequence.pad_sequences(data_inputs, \n",
    "                                                           value=0, \n",
    "                                                           padding='post',\n",
    "                                                           maxlen=max_len)"
   ]
  },
  {
   "cell_type": "code",
   "execution_count": 155,
   "id": "black-dating",
   "metadata": {},
   "outputs": [
    {
     "name": "stdout",
     "output_type": "stream",
     "text": [
      "[ 155  617 2877 3185 1244   80  126    8    3 2633    0    0    0    0\n",
      "    0    0    0    0    0    0    0    0    0    0    0    0    0    0\n",
      "    0    0    0    0    0    0    0    0    0    0    0    0    0    0\n",
      "    0    0    0    0    0    0    0    0    0    0    0    0    0    0]\n",
      "[392  98  62   0   0   0   0   0   0   0   0   0   0   0   0   0   0   0\n",
      "   0   0   0   0   0   0   0   0   0   0   0   0   0   0   0   0   0   0\n",
      "   0   0   0   0   0   0   0   0   0   0   0   0   0   0   0   0   0   0\n",
      "   0   0]\n",
      "[  585  2174 39429     0     0     0     0     0     0     0     0     0\n",
      "     0     0     0     0     0     0     0     0     0     0     0     0\n",
      "     0     0     0     0     0     0     0     0     0     0     0     0\n",
      "     0     0     0     0     0     0     0     0     0     0     0     0\n",
      "     0     0     0     0     0     0     0     0]\n",
      "[   1   12  480  478  139  588   14  705 1978    0    0    0    0    0\n",
      "    0    0    0    0    0    0    0    0    0    0    0    0    0    0\n",
      "    0    0    0    0    0    0    0    0    0    0    0    0    0    0\n",
      "    0    0    0    0    0    0    0    0    0    0    0    0    0    0]\n",
      "[    1   370   694 11179 19640  1261   388   986    67     8  2382   264\n",
      " 48979     0     0     0     0     0     0     0     0     0     0     0\n",
      "     0     0     0     0     0     0     0     0     0     0     0     0\n",
      "     0     0     0     0     0     0     0     0     0     0     0     0\n",
      "     0     0     0     0     0     0     0     0]\n",
      "[    1    12    19  8368 28670 17239  3111    30 14082 12500   842  4324\n",
      " 15532 46177  5568 39230 33273     0     0     0     0     0     0     0\n",
      "     0     0     0     0     0     0     0     0     0     0     0     0\n",
      "     0     0     0     0     0     0     0     0     0     0     0     0\n",
      "     0     0     0     0     0     0     0     0]\n",
      "[    1  1401 42232     2   153     0     0     0     0     0     0     0\n",
      "     0     0     0     0     0     0     0     0     0     0     0     0\n",
      "     0     0     0     0     0     0     0     0     0     0     0     0\n",
      "     0     0     0     0     0     0     0     0     0     0     0     0\n",
      "     0     0     0     0     0     0     0     0]\n",
      "[    1 36766  1132     8   155  6624     5    28   100  3917    13 29555\n",
      "     0     0     0     0     0     0     0     0     0     0     0     0\n",
      "     0     0     0     0     0     0     0     0     0     0     0     0\n",
      "     0     0     0     0     0     0     0     0     0     0     0     0\n",
      "     0     0     0     0     0     0     0     0]\n",
      "[751   0   0   0   0   0   0   0   0   0   0   0   0   0   0   0   0   0\n",
      "   0   0   0   0   0   0   0   0   0   0   0   0   0   0   0   0   0   0\n",
      "   0   0   0   0   0   0   0   0   0   0   0   0   0   0   0   0   0   0\n",
      "   0   0]\n",
      "[    1    68  3004     3     6    29     9   213    12    58   212   229\n",
      " 10871 11478  6913     0     0     0     0     0     0     0     0     0\n",
      "     0     0     0     0     0     0     0     0     0     0     0     0\n",
      "     0     0     0     0     0     0     0     0     0     0     0     0\n",
      "     0     0     0     0     0     0     0     0]\n"
     ]
    }
   ],
   "source": [
    "for _ in range(10):\n",
    "    print(data_inputs[random.randint(0, len(data_inputs)) - 1])"
   ]
  },
  {
   "cell_type": "code",
   "execution_count": 156,
   "id": "funny-monday",
   "metadata": {},
   "outputs": [],
   "source": [
    "train_inputs, test_inputs, train_labels, test_labels = train_test_split(data_inputs, data_labels, test_size=0.3, stratify=data_labels)"
   ]
  },
  {
   "cell_type": "code",
   "execution_count": 160,
   "id": "through-canvas",
   "metadata": {},
   "outputs": [
    {
     "data": {
      "text/plain": [
       "(168000, 56)"
      ]
     },
     "execution_count": 160,
     "metadata": {},
     "output_type": "execute_result"
    }
   ],
   "source": [
    "train_inputs.shape"
   ]
  },
  {
   "cell_type": "code",
   "execution_count": 161,
   "id": "british-italian",
   "metadata": {},
   "outputs": [
    {
     "data": {
      "text/plain": [
       "(168000,)"
      ]
     },
     "execution_count": 161,
     "metadata": {},
     "output_type": "execute_result"
    }
   ],
   "source": [
    "train_labels.shape"
   ]
  },
  {
   "cell_type": "code",
   "execution_count": 162,
   "id": "appreciated-season",
   "metadata": {},
   "outputs": [
    {
     "data": {
      "text/plain": [
       "(72000, 56)"
      ]
     },
     "execution_count": 162,
     "metadata": {},
     "output_type": "execute_result"
    }
   ],
   "source": [
    "test_inputs.shape"
   ]
  },
  {
   "cell_type": "code",
   "execution_count": 163,
   "id": "matched-music",
   "metadata": {},
   "outputs": [
    {
     "data": {
      "text/plain": [
       "(72000,)"
      ]
     },
     "execution_count": 163,
     "metadata": {},
     "output_type": "execute_result"
    }
   ],
   "source": [
    "test_labels.shape"
   ]
  },
  {
   "cell_type": "markdown",
   "id": "analyzed-mustang",
   "metadata": {},
   "source": [
    "# Neural Network"
   ]
  },
  {
   "cell_type": "markdown",
   "id": "convertible-poverty",
   "metadata": {},
   "source": [
    "## Model"
   ]
  },
  {
   "cell_type": "code",
   "execution_count": 181,
   "id": "competitive-transcript",
   "metadata": {},
   "outputs": [],
   "source": [
    "# Construção do Modelo Base\n",
    "class DCNN(tf.keras.Model):\n",
    "    \n",
    "    def __init__(self, vocab_size, emb_dim=128, nb_filters=50, ffn_units=512, nb_classes=2, dropout_rate=0.1, training=False, name=\"dcnn\"):\n",
    "        super(DCNN, self).__init__(name=name)\n",
    "    \n",
    "        #Camada de Convolução\n",
    "        self.embedding = layers.Embedding(vocab_size, emb_dim)\n",
    "        self.bigram = layers.Conv1D(filters=nb_filters, kernel_size=2, padding='same', activation='relu')\n",
    "        self.trigram = layers.Conv1D(filters=nb_filters, kernel_size=3, padding='same', activation='relu')\n",
    "        self.fourgram = layers.Conv1D(filters=nb_filters, kernel_size=4, padding='same', activation='relu')\n",
    "\n",
    "        self.pool = layers.GlobalMaxPooling1D()\n",
    "        \n",
    "        #Camada Densa\n",
    "        self.dense_1 = layers.Dense(units=ffn_units, activation='relu')\n",
    "        self.dropout = layers.Dropout(rate=dropout_rate)\n",
    "        \n",
    "        if nb_classes == 2:\n",
    "            self.last_dense = layers.Dense(units=1, activation='sigmoid')\n",
    "        else:\n",
    "            self.last_dense = layers.Dense(units=nb_classes, activation='softmax')\n",
    "            \n",
    "    \n",
    "    def call(self, inputs, training):\n",
    "        x = self.embedding(inputs)\n",
    "        x_1 = self.bigram(x)\n",
    "        x_1 = self.pool(x_1)\n",
    "        x_2 = self.trigram(x)\n",
    "        x_2 = self.pool(x_2)\n",
    "        x_3 = self.fourgram(x)\n",
    "        x_3 = self.pool(x_3)\n",
    "        \n",
    "        merged = tf.concat([x_1, x_2, x_3], axis=-1) #Batch_size, 3*nb_filters\n",
    "        merged = self.dense_1(merged)\n",
    "        merged = self.dropout(merged, training)\n",
    "        output = self.last_dense(merged)\n",
    "        \n",
    "        return output\n",
    "        \n",
    "        "
   ]
  },
  {
   "cell_type": "markdown",
   "id": "pressing-dietary",
   "metadata": {},
   "source": [
    "# Trainamento"
   ]
  },
  {
   "cell_type": "markdown",
   "id": "flexible-truth",
   "metadata": {},
   "source": [
    "## Configuração dos Parâmetros"
   ]
  },
  {
   "cell_type": "code",
   "execution_count": 173,
   "id": "insured-boards",
   "metadata": {},
   "outputs": [
    {
     "data": {
      "text/plain": [
       "52693"
      ]
     },
     "execution_count": 173,
     "metadata": {},
     "output_type": "execute_result"
    }
   ],
   "source": [
    "vocab_size = tokenizer.vocab_size\n",
    "vocab_size"
   ]
  },
  {
   "cell_type": "code",
   "execution_count": 186,
   "id": "lovely-rabbit",
   "metadata": {},
   "outputs": [],
   "source": [
    "emb_dim = 200\n",
    "nb_filters = 100\n",
    "ffn_units = 256\n",
    "nb_classes = len(set(train_labels))\n",
    "batch_size = 64"
   ]
  },
  {
   "cell_type": "code",
   "execution_count": 179,
   "id": "wrong-toddler",
   "metadata": {},
   "outputs": [],
   "source": [
    "dropout_rate = 0.2\n",
    "nb_epochs = 10"
   ]
  },
  {
   "cell_type": "markdown",
   "id": "studied-contrast",
   "metadata": {},
   "source": [
    "## Treinamento da Rede Neural"
   ]
  },
  {
   "cell_type": "code",
   "execution_count": 182,
   "id": "dedicated-savage",
   "metadata": {},
   "outputs": [],
   "source": [
    "Dcnn = DCNN(vocab_size=vocab_size, emb_dim=emb_dim, nb_filters=nb_filters, ffn_units=ffn_units, \n",
    "            nb_classes=nb_classes, dropout_rate=dropout_rate)"
   ]
  },
  {
   "cell_type": "code",
   "execution_count": 183,
   "id": "cloudy-alliance",
   "metadata": {},
   "outputs": [],
   "source": [
    "if nb_classes == 2:\n",
    "    Dcnn.compile(loss=\"binary_crossentropy\", optimizer=\"adam\", metrics=[\"accuracy\"])\n",
    "else:\n",
    "    Dcnn.compile(loss=\"sparse_categorical_crossentropy\", optimizer=\"adam\", metrics=[\"accuracy\"])"
   ]
  },
  {
   "cell_type": "markdown",
   "id": "opposed-evolution",
   "metadata": {},
   "source": [
    "## Checkpoint"
   ]
  },
  {
   "cell_type": "code",
   "execution_count": 185,
   "id": "olive-asthma",
   "metadata": {},
   "outputs": [],
   "source": [
    "checkpoint_path = \"./\"\n",
    "ckpt = tf.train.Checkpoint(Dcnn=Dcnn)\n",
    "ckpt_manager = tf.train.CheckpointManager(ckpt, checkpoint_path, max_to_keep=5)\n",
    "if ckpt_manager.latest_checkpoint:\n",
    "    ckpt.restore(ckpt_manager.lastest_checkpoint)\n",
    "    print(\"Latest Checkpoint Restored\")\n",
    "    "
   ]
  },
  {
   "cell_type": "markdown",
   "id": "collective-hawaii",
   "metadata": {},
   "source": [
    "## Train"
   ]
  },
  {
   "cell_type": "code",
   "execution_count": 187,
   "id": "personal-replica",
   "metadata": {},
   "outputs": [
    {
     "name": "stdout",
     "output_type": "stream",
     "text": [
      "Epoch 1/10\n",
      "2363/2363 [==============================] - 763s 320ms/step - loss: 0.5391 - accuracy: 0.7190 - val_loss: 0.4752 - val_accuracy: 0.7715\n",
      "Epoch 2/10\n",
      "2363/2363 [==============================] - 743s 314ms/step - loss: 0.3566 - accuracy: 0.8422 - val_loss: 0.5194 - val_accuracy: 0.7566\n",
      "Epoch 3/10\n",
      "2363/2363 [==============================] - 754s 319ms/step - loss: 0.1821 - accuracy: 0.9261 - val_loss: 0.7141 - val_accuracy: 0.7452\n",
      "Epoch 4/10\n",
      "2363/2363 [==============================] - 740s 313ms/step - loss: 0.0908 - accuracy: 0.9636 - val_loss: 1.0357 - val_accuracy: 0.7385\n",
      "Epoch 5/10\n",
      "2363/2363 [==============================] - 760s 322ms/step - loss: 0.0585 - accuracy: 0.9756 - val_loss: 1.2416 - val_accuracy: 0.7357\n",
      "Epoch 6/10\n",
      "2363/2363 [==============================] - 913s 386ms/step - loss: 0.0482 - accuracy: 0.9796 - val_loss: 1.4682 - val_accuracy: 0.7355\n",
      "Epoch 7/10\n",
      "2363/2363 [==============================] - 862s 365ms/step - loss: 0.0401 - accuracy: 0.9831 - val_loss: 1.5493 - val_accuracy: 0.7277\n",
      "Epoch 8/10\n",
      "2363/2363 [==============================] - 873s 370ms/step - loss: 0.0354 - accuracy: 0.9849 - val_loss: 1.7844 - val_accuracy: 0.7364\n",
      "Epoch 9/10\n",
      "2363/2363 [==============================] - 881s 373ms/step - loss: 0.0320 - accuracy: 0.9862 - val_loss: 1.8023 - val_accuracy: 0.7286\n",
      "Epoch 10/10\n",
      "2363/2363 [==============================] - 856s 362ms/step - loss: 0.0279 - accuracy: 0.9878 - val_loss: 1.8571 - val_accuracy: 0.7284\n"
     ]
    },
    {
     "data": {
      "text/plain": [
       "'./ckpt-1'"
      ]
     },
     "execution_count": 187,
     "metadata": {},
     "output_type": "execute_result"
    }
   ],
   "source": [
    "history = Dcnn.fit(train_inputs, train_labels, batch_size=batch_size, epochs=nb_epochs, verbose=1, validation_split=0.10)\n",
    "ckpt_manager.save()"
   ]
  },
  {
   "cell_type": "code",
   "execution_count": 188,
   "id": "swiss-nicholas",
   "metadata": {},
   "outputs": [],
   "source": [
    "Dcnn.save_weights(\"Weights.h5\")"
   ]
  },
  {
   "cell_type": "code",
   "execution_count": 205,
   "id": "confirmed-sleeve",
   "metadata": {},
   "outputs": [
    {
     "name": "stdout",
     "output_type": "stream",
     "text": [
      "Model: \"dcnn\"\n",
      "_________________________________________________________________\n",
      "Layer (type)                 Output Shape              Param #   \n",
      "=================================================================\n",
      "embedding_1 (Embedding)      multiple                  10538600  \n",
      "_________________________________________________________________\n",
      "conv1d (Conv1D)              multiple                  40100     \n",
      "_________________________________________________________________\n",
      "conv1d_1 (Conv1D)            multiple                  60100     \n",
      "_________________________________________________________________\n",
      "conv1d_2 (Conv1D)            multiple                  80100     \n",
      "_________________________________________________________________\n",
      "global_max_pooling1d (Global multiple                  0         \n",
      "_________________________________________________________________\n",
      "dense (Dense)                multiple                  77056     \n",
      "_________________________________________________________________\n",
      "dropout (Dropout)            multiple                  0         \n",
      "_________________________________________________________________\n",
      "dense_1 (Dense)              multiple                  257       \n",
      "=================================================================\n",
      "Total params: 10,796,213\n",
      "Trainable params: 10,796,213\n",
      "Non-trainable params: 0\n",
      "_________________________________________________________________\n"
     ]
    }
   ],
   "source": [
    "Dcnn.summary()"
   ]
  },
  {
   "cell_type": "markdown",
   "id": "substantial-january",
   "metadata": {},
   "source": [
    "# Avaliação do Modelo"
   ]
  },
  {
   "cell_type": "code",
   "execution_count": 189,
   "id": "assumed-charger",
   "metadata": {},
   "outputs": [
    {
     "name": "stdout",
     "output_type": "stream",
     "text": [
      "1125/1125 [==============================] - 91s 79ms/step - loss: 1.8196 - accuracy: 0.7279\n",
      "[1.8196359872817993, 0.7279166579246521]\n"
     ]
    }
   ],
   "source": [
    "results = Dcnn.evaluate(test_inputs, test_labels, batch_size=batch_size)\n",
    "print(results)"
   ]
  },
  {
   "cell_type": "code",
   "execution_count": 190,
   "id": "little-fitting",
   "metadata": {},
   "outputs": [],
   "source": [
    "y_pred_test = Dcnn.predict(test_inputs)"
   ]
  },
  {
   "cell_type": "code",
   "execution_count": 191,
   "id": "revolutionary-contest",
   "metadata": {},
   "outputs": [
    {
     "data": {
      "text/plain": [
       "array([[1.0000000e+00],\n",
       "       [1.0000000e+00],\n",
       "       [2.8256395e-01],\n",
       "       ...,\n",
       "       [9.9997562e-01],\n",
       "       [9.9991697e-01],\n",
       "       [4.3908258e-05]], dtype=float32)"
      ]
     },
     "execution_count": 191,
     "metadata": {},
     "output_type": "execute_result"
    }
   ],
   "source": [
    "y_pred_test"
   ]
  },
  {
   "cell_type": "code",
   "execution_count": 192,
   "id": "competitive-hanging",
   "metadata": {},
   "outputs": [],
   "source": [
    "y_pred_test = (y_pred_test > 0.5)"
   ]
  },
  {
   "cell_type": "code",
   "execution_count": 193,
   "id": "european-printing",
   "metadata": {},
   "outputs": [
    {
     "data": {
      "text/plain": [
       "array([[ True],\n",
       "       [ True],\n",
       "       [False],\n",
       "       ...,\n",
       "       [ True],\n",
       "       [ True],\n",
       "       [False]])"
      ]
     },
     "execution_count": 193,
     "metadata": {},
     "output_type": "execute_result"
    }
   ],
   "source": [
    "y_pred_test"
   ]
  },
  {
   "cell_type": "code",
   "execution_count": 195,
   "id": "removable-knight",
   "metadata": {},
   "outputs": [
    {
     "data": {
      "image/png": "[encoded data removed]",
      "text/plain": [
       "<Figure size 432x288 with 2 Axes>"
      ]
     },
     "metadata": {
      "needs_background": "light"
     },
     "output_type": "display_data"
    }
   ],
   "source": [
    "sns.heatmap(y_pred_test);"
   ]
  },
  {
   "cell_type": "code",
   "execution_count": 196,
   "id": "affecting-pointer",
   "metadata": {},
   "outputs": [
    {
     "data": {
      "text/plain": [
       "array([1, 1, 0, ..., 1, 0, 0])"
      ]
     },
     "execution_count": 196,
     "metadata": {},
     "output_type": "execute_result"
    }
   ],
   "source": [
    "test_labels"
   ]
  },
  {
   "cell_type": "code",
   "execution_count": 197,
   "id": "extraordinary-madrid",
   "metadata": {},
   "outputs": [],
   "source": [
    "from sklearn.metrics import confusion_matrix"
   ]
  },
  {
   "cell_type": "code",
   "execution_count": 198,
   "id": "independent-japanese",
   "metadata": {},
   "outputs": [
    {
     "data": {
      "text/plain": [
       "array([[24642, 11358],\n",
       "       [ 8232, 27768]])"
      ]
     },
     "execution_count": 198,
     "metadata": {},
     "output_type": "execute_result"
    }
   ],
   "source": [
    "cm = confusion_matrix(test_labels, y_pred_test)\n",
    "cm"
   ]
  },
  {
   "cell_type": "code",
   "execution_count": 199,
   "id": "banner-armor",
   "metadata": {},
   "outputs": [
    {
     "data": {
      "image/png": "[encoded data removed]",
      "text/plain": [
       "<Figure size 432x288 with 2 Axes>"
      ]
     },
     "metadata": {
      "needs_background": "light"
     },
     "output_type": "display_data"
    }
   ],
   "source": [
    "sns.heatmap(cm, annot=True);"
   ]
  },
  {
   "cell_type": "code",
   "execution_count": 200,
   "id": "noted-actress",
   "metadata": {},
   "outputs": [
    {
     "data": {
      "text/plain": [
       "dict_keys(['loss', 'accuracy', 'val_loss', 'val_accuracy'])"
      ]
     },
     "execution_count": 200,
     "metadata": {},
     "output_type": "execute_result"
    }
   ],
   "source": [
    "history.history.keys()"
   ]
  },
  {
   "cell_type": "code",
   "execution_count": 202,
   "id": "technological-supplement",
   "metadata": {},
   "outputs": [
    {
     "data": {
      "image/png": "[encoded data removed]",
      "text/plain": [
       "<Figure size 432x288 with 1 Axes>"
      ]
     },
     "metadata": {
      "needs_background": "light"
     },
     "output_type": "display_data"
    }
   ],
   "source": [
    "plt.plot(history.history[\"loss\"])\n",
    "plt.plot(history.history[\"val_loss\"])\n",
    "plt.title(\"Model Loss Progress during training validation\")\n",
    "plt.xlabel(\"Epochs\")\n",
    "plt.ylabel(\"Losses\")\n",
    "plt.legend([\"Training Loss\", \"Validation Loss\"]);"
   ]
  },
  {
   "cell_type": "code",
   "execution_count": 207,
   "id": "detected-prompt",
   "metadata": {},
   "outputs": [
    {
     "data": {
      "image/png": "[encoded data removed]",
      "text/plain": [
       "<Figure size 432x288 with 1 Axes>"
      ]
     },
     "metadata": {
      "needs_background": "light"
     },
     "output_type": "display_data"
    }
   ],
   "source": [
    "plt.plot(history.history[\"accuracy\"])\n",
    "plt.plot(history.history[\"val_accuracy\"])\n",
    "plt.title(\"Model Loss Progress during training validation\")\n",
    "plt.xlabel(\"Epochs\")\n",
    "plt.ylabel(\"Accuracy\")\n",
    "plt.legend([\"Training Accuracy\", \"Validation Accuracy\"]);"
   ]
  },
  {
   "cell_type": "code",
   "execution_count": 210,
   "id": "outer-elimination",
   "metadata": {},
   "outputs": [],
   "source": [
    "text = \"you are so funny\"\n",
    "text = tokenizer.encode(text)"
   ]
  },
  {
   "cell_type": "code",
   "execution_count": 211,
   "id": "verbal-stanley",
   "metadata": {},
   "outputs": [
    {
     "data": {
      "text/plain": [
       "[4280, 15268, 3918, 678]"
      ]
     },
     "execution_count": 211,
     "metadata": {},
     "output_type": "execute_result"
    }
   ],
   "source": [
    "text"
   ]
  },
  {
   "cell_type": "code",
   "execution_count": 213,
   "id": "sealed-hands",
   "metadata": {},
   "outputs": [
    {
     "data": {
      "text/plain": [
       "array([[0.7469365]], dtype=float32)"
      ]
     },
     "execution_count": 213,
     "metadata": {},
     "output_type": "execute_result"
    }
   ],
   "source": [
    "Dcnn(np.array([text]), training=False).numpy()"
   ]
  },
  {
   "cell_type": "code",
   "execution_count": 214,
   "id": "peaceful-heading",
   "metadata": {},
   "outputs": [],
   "source": [
    "text = \"I hate you\"\n",
    "text = tokenizer.encode(text)"
   ]
  },
  {
   "cell_type": "code",
   "execution_count": 215,
   "id": "prompt-premium",
   "metadata": {},
   "outputs": [
    {
     "data": {
      "text/plain": [
       "[52510, 52469, 64, 3293]"
      ]
     },
     "execution_count": 215,
     "metadata": {},
     "output_type": "execute_result"
    }
   ],
   "source": [
    "text"
   ]
  },
  {
   "cell_type": "code",
   "execution_count": 216,
   "id": "historic-surgeon",
   "metadata": {},
   "outputs": [
    {
     "data": {
      "text/plain": [
       "array([[1.7763492e-11]], dtype=float32)"
      ]
     },
     "execution_count": 216,
     "metadata": {},
     "output_type": "execute_result"
    }
   ],
   "source": [
    "Dcnn(np.array([text]), training=False).numpy()"
   ]
  },
  {
   "cell_type": "code",
   "execution_count": 217,
   "id": "pacific-theme",
   "metadata": {},
   "outputs": [
    {
     "data": {
      "text/plain": [
       "[52510, 52469, 13, 4280, 3918, 14667]"
      ]
     },
     "execution_count": 217,
     "metadata": {},
     "output_type": "execute_result"
    }
   ],
   "source": [
    "text = \"I love you so much\"\n",
    "text = tokenizer.encode(text)\n",
    "text"
   ]
  },
  {
   "cell_type": "code",
   "execution_count": 218,
   "id": "loaded-metro",
   "metadata": {},
   "outputs": [
    {
     "data": {
      "text/plain": [
       "array([[0.99999404]], dtype=float32)"
      ]
     },
     "execution_count": 218,
     "metadata": {},
     "output_type": "execute_result"
    }
   ],
   "source": [
    "Dcnn(np.array([text]), training=False).numpy()"
   ]
  },
  {
   "cell_type": "code",
   "execution_count": 219,
   "id": "strategic-bumper",
   "metadata": {},
   "outputs": [
    {
     "name": "stdout",
     "output_type": "stream",
     "text": [
      "[[0.99999404]]\n"
     ]
    }
   ],
   "source": [
    "print(Dcnn(np.array([text]), training=False).numpy())"
   ]
  },
  {
   "cell_type": "code",
   "execution_count": null,
   "id": "discrete-today",
   "metadata": {},
   "outputs": [],
   "source": []
  }
 ],
 "metadata": {
  "kernelspec": {
   "display_name": "Python 3",
   "language": "python",
   "name": "python3"
  },
  "language_info": {
   "codemirror_mode": {
    "name": "ipython",
    "version": 3
   },
   "file_extension": ".py",
   "mimetype": "text/x-python",
   "name": "python",
   "nbconvert_exporter": "python",
   "pygments_lexer": "ipython3",
   "version": "3.8.5"
  }
 },
 "nbformat": 4,
 "nbformat_minor": 5
}
